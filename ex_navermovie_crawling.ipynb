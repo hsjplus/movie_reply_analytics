{
 "cells": [
  {
   "cell_type": "code",
   "execution_count": 8,
   "metadata": {
    "collapsed": true
   },
   "outputs": [],
   "source": [
    "### 2012년 영화 순위별 네이버 영화 후기 크롤링\n",
    "\n",
    "# 관련 라이브러리 import \n",
    "import requests\n",
    "from bs4 import BeautifulSoup\n",
    "import pandas as pd\n",
    "from pandas import Series, DataFrame"
   ]
  },
  {
   "cell_type": "code",
   "execution_count": 9,
   "metadata": {},
   "outputs": [],
   "source": [
    "# list2는 영화순위, 영화코드, 후기 페이지 수로 된 리스트로 구성됨  \n",
    "list2 = [\n",
    "    [29, 81891, 665], [28, 83250, 1350], [27, 83546, 204], [26, 77128, 1054]\n",
    "    , [25, 91510, 344], [24, 70994, 561], [23, 93090, 524], [22, 53741, 624]\n",
    "    , [21, 53372, 657], [20, 68073, 831]\n",
    "]"
   ]
  },
  {
   "cell_type": "code",
   "execution_count": 10,
   "metadata": {
    "collapsed": true
   },
   "outputs": [],
   "source": [
    "# list2에 있는 리스트 개수 만큼 반복\n",
    "for lst in list2:\n",
    "    data = []\n",
    "    # 페이지수 만큼 반복\n",
    "    for i in range(1, (lst[2]+1)):\n",
    "        # code 부분에 리스트에 있던 영화코드 대입\n",
    "        url= 'http://movie.naver.com/movie/bi/mi/pointWriteFormList.nhn?code={}&type=after&isActualPointWriteExecute=false&isMileageSubscriptionAlready=false&isMileageSubscriptionReject=false&page='.format(lst[1])  \n",
    "        # 위 url과 page번호까자지 문자열 합하여 get함\n",
    "        html_doc = requests.get('{}{}'.format(url,i)).text\n",
    "        soup = BeautifulSoup(html_doc, \"html.parser\")\n",
    "\n",
    "        # 각각 평점, 후기, 날짜 부분 가져옴\n",
    "        star=soup.select('.score_result .star_score > em')\n",
    "        reply=soup.select('.score_reple > p')\n",
    "        date=soup.select('.score_reple dt em + em')\n",
    "        \n",
    "        # 한 페이지에서 가져온 평점, 후기, 날짜 데이터들을 딕셔너리 형태로 저장하여 data라는 list에 추가\n",
    "        for j in range(len(star)):\n",
    "            dic = {}\n",
    "            dic['평점'] = star[j].get_text()\n",
    "            dic['후기'] = reply[j].get_text()\n",
    "            dic['날짜'] = date[j].get_text()[:10]\n",
    "            data.append(dic)\n",
    "    \n",
    "    # DataFrame으로 변환 후, 영화순위가 들어간 이름의 csv 파일로 저장 \n",
    "    df = DataFrame(data, columns=['평점', '후기', '날짜'])\n",
    "    df.to_csv('{}_n.csv'.format(lst[0]),sep='\\t',encoding='utf-8')"
   ]
  }
 ],
 "metadata": {
  "kernelspec": {
   "display_name": "Python 3",
   "language": "python",
   "name": "python3"
  },
  "language_info": {
   "codemirror_mode": {
    "name": "ipython",
    "version": 3
   },
   "file_extension": ".py",
   "mimetype": "text/x-python",
   "name": "python",
   "nbconvert_exporter": "python",
   "pygments_lexer": "ipython3",
   "version": "3.6.3"
  }
 },
 "nbformat": 4,
 "nbformat_minor": 2
}
